{
 "cells": [
  {
   "cell_type": "code",
   "execution_count": 1,
   "metadata": {
    "collapsed": true
   },
   "outputs": [
    {
     "name": "stderr",
     "output_type": "stream",
     "text": [
      "2023-05-03 14:03:56.766207: I tensorflow/core/platform/cpu_feature_guard.cc:193] This TensorFlow binary is optimized with oneAPI Deep Neural Network Library (oneDNN) to use the following CPU instructions in performance-critical operations:  SSE4.1 SSE4.2\n",
      "To enable them in other operations, rebuild TensorFlow with the appropriate compiler flags.\n"
     ]
    }
   ],
   "source": [
    "import pandas as pd\n",
    "import nltk\n",
    "from nltk.corpus import stopwords\n",
    "from sklearn.metrics import accuracy_score\n",
    "from sklearn.linear_model import LogisticRegression\n",
    "from sklearn.model_selection import train_test_split\n",
    "from sklearn.feature_extraction.text import TfidfVectorizer\n",
    "from sklearn.metrics import classification_report\n",
    "import re\n",
    "import string\n",
    "import spacy"
   ]
  },
  {
   "cell_type": "code",
   "execution_count": 16,
   "outputs": [
    {
     "data": {
      "text/plain": "   Unnamed: 0                                               text  intent  \\\n0           0  i want to fly from boston at 838 am and arrive...  flight   \n1           1  what flights are available from pittsburgh to ...  flight   \n\n  fromloc.city_name depart_time.time toloc.city_name arrive_time.time  \\\n0            boston           838 am          denver             1110   \n1        pittsburgh              NaN       baltimore              NaN   \n\n  arrive_time.period_of_day depart_date.day_name depart_time.period_of_day  \\\n0                   morning                  NaN                       NaN   \n1                       NaN             thursday                   morning   \n\n   ... state_name stoploc.airport_name arrive_date.today_relative  \\\n0  ...        NaN                  NaN                        NaN   \n1  ...        NaN                  NaN                        NaN   \n\n  time_relative return_time.period_of_day return_time.period_mod month_name  \\\n0           NaN                       NaN                    NaN        NaN   \n1           NaN                       NaN                    NaN        NaN   \n\n  day_number return_date.today_relative return_date.day_name  \n0        NaN                        NaN                  NaN  \n1        NaN                        NaN                  NaN  \n\n[2 rows x 82 columns]",
      "text/html": "<div>\n<style scoped>\n    .dataframe tbody tr th:only-of-type {\n        vertical-align: middle;\n    }\n\n    .dataframe tbody tr th {\n        vertical-align: top;\n    }\n\n    .dataframe thead th {\n        text-align: right;\n    }\n</style>\n<table border=\"1\" class=\"dataframe\">\n  <thead>\n    <tr style=\"text-align: right;\">\n      <th></th>\n      <th>Unnamed: 0</th>\n      <th>text</th>\n      <th>intent</th>\n      <th>fromloc.city_name</th>\n      <th>depart_time.time</th>\n      <th>toloc.city_name</th>\n      <th>arrive_time.time</th>\n      <th>arrive_time.period_of_day</th>\n      <th>depart_date.day_name</th>\n      <th>depart_time.period_of_day</th>\n      <th>...</th>\n      <th>state_name</th>\n      <th>stoploc.airport_name</th>\n      <th>arrive_date.today_relative</th>\n      <th>time_relative</th>\n      <th>return_time.period_of_day</th>\n      <th>return_time.period_mod</th>\n      <th>month_name</th>\n      <th>day_number</th>\n      <th>return_date.today_relative</th>\n      <th>return_date.day_name</th>\n    </tr>\n  </thead>\n  <tbody>\n    <tr>\n      <th>0</th>\n      <td>0</td>\n      <td>i want to fly from boston at 838 am and arrive...</td>\n      <td>flight</td>\n      <td>boston</td>\n      <td>838 am</td>\n      <td>denver</td>\n      <td>1110</td>\n      <td>morning</td>\n      <td>NaN</td>\n      <td>NaN</td>\n      <td>...</td>\n      <td>NaN</td>\n      <td>NaN</td>\n      <td>NaN</td>\n      <td>NaN</td>\n      <td>NaN</td>\n      <td>NaN</td>\n      <td>NaN</td>\n      <td>NaN</td>\n      <td>NaN</td>\n      <td>NaN</td>\n    </tr>\n    <tr>\n      <th>1</th>\n      <td>1</td>\n      <td>what flights are available from pittsburgh to ...</td>\n      <td>flight</td>\n      <td>pittsburgh</td>\n      <td>NaN</td>\n      <td>baltimore</td>\n      <td>NaN</td>\n      <td>NaN</td>\n      <td>thursday</td>\n      <td>morning</td>\n      <td>...</td>\n      <td>NaN</td>\n      <td>NaN</td>\n      <td>NaN</td>\n      <td>NaN</td>\n      <td>NaN</td>\n      <td>NaN</td>\n      <td>NaN</td>\n      <td>NaN</td>\n      <td>NaN</td>\n      <td>NaN</td>\n    </tr>\n  </tbody>\n</table>\n<p>2 rows × 82 columns</p>\n</div>"
     },
     "execution_count": 16,
     "metadata": {},
     "output_type": "execute_result"
    }
   ],
   "source": [
    "df = pd.read_csv(\"ATIS.csv\")\n",
    "\n",
    "# df = df.drop(df.columns.difference([\"text\", \"intent\"]), axis=1)\n",
    "\n",
    "df.head(2)"
   ],
   "metadata": {
    "collapsed": false
   }
  },
  {
   "cell_type": "code",
   "execution_count": 3,
   "outputs": [
    {
     "name": "stdout",
     "output_type": "stream",
     "text": [
      "[('boston', 384), ('838', 397), ('denver', 384), ('1110', 391), ('morning', 392)]\n"
     ]
    }
   ],
   "source": [
    "nlp = spacy.load(\"en_core_web_sm\")\n",
    "\n",
    "text = \"i want to fly from boston at 838 am and arrive in denver at 1110 in the morning\"\n",
    "\n",
    "doc = nlp(text)\n",
    "\n",
    "entities = [(ent.text, ent.label) for ent in doc.ents]\n",
    "\n",
    "print(entities)"
   ],
   "metadata": {
    "collapsed": false
   }
  },
  {
   "cell_type": "code",
   "execution_count": null,
   "outputs": [],
   "source": [],
   "metadata": {
    "collapsed": false
   }
  }
 ],
 "metadata": {
  "kernelspec": {
   "display_name": "Python 3",
   "language": "python",
   "name": "python3"
  },
  "language_info": {
   "codemirror_mode": {
    "name": "ipython",
    "version": 2
   },
   "file_extension": ".py",
   "mimetype": "text/x-python",
   "name": "python",
   "nbconvert_exporter": "python",
   "pygments_lexer": "ipython2",
   "version": "2.7.6"
  }
 },
 "nbformat": 4,
 "nbformat_minor": 0
}
