{
 "cells": [
  {
   "cell_type": "code",
   "execution_count": 3,
   "metadata": {
    "collapsed": true
   },
   "outputs": [],
   "source": [
    "import pandas as pd\n",
    "from nltk.corpus import stopwords\n",
    "from sklearn.metrics import accuracy_score\n",
    "from sklearn.linear_model import LogisticRegression\n",
    "from sklearn.model_selection import train_test_split\n",
    "from sklearn.feature_extraction.text import TfidfVectorizer\n",
    "from sklearn.metrics import classification_report\n",
    "import re\n",
    "import string"
   ]
  },
  {
   "cell_type": "code",
   "execution_count": 4,
   "outputs": [
    {
     "data": {
      "text/plain": "text      0\nintent    0\ndtype: int64"
     },
     "execution_count": 4,
     "metadata": {},
     "output_type": "execute_result"
    }
   ],
   "source": [
    "df = pd.read_csv(\"ATIS.csv\")\n",
    "\n",
    "df = df.drop(df.columns.difference([\"text\", \"intent\"]), axis=1)\n",
    "\n",
    "df.isna().sum()"
   ],
   "metadata": {
    "collapsed": false
   }
  },
  {
   "cell_type": "code",
   "execution_count": 5,
   "outputs": [],
   "source": [
    "#Removing the stopwords from text\n",
    "def split_into_words(text):\n",
    "    # split into words by white space\n",
    "    words = text.split()\n",
    "    return words\n",
    "\n",
    "def to_lower_case(words):\n",
    "    # convert to lower case\n",
    "    words = [word.lower() for word in words]\n",
    "    return words\n",
    "\n",
    "def remove_punctuation(words):\n",
    "    # prepare regex for char filtering\n",
    "    re_punc = re.compile('[%s]' % re.escape(string.punctuation))\n",
    "    # remove punctuation from each word\n",
    "    stripped = [re_punc.sub('', w) for w in words]\n",
    "    return stripped\n",
    "\n",
    "def keep_alphabetic(words):\n",
    "    # remove remaining tokens that are not alphabetic\n",
    "    words = [word for word in words if word.isalpha()]\n",
    "    return words\n",
    "\n",
    "def remove_stopwords(words):\n",
    "    # filter out stop words\n",
    "    stop_words = set(stopwords.words('english'))\n",
    "    words = [w for w in words if not w in stop_words]\n",
    "    return words\n",
    "\n",
    "def to_sentence(words):\n",
    "    # join words to a sentence\n",
    "    return ' '.join(words)\n",
    "\n",
    "#Removing the noisy text\n",
    "def denoise_text(text):\n",
    "    words = split_into_words(text)\n",
    "    words = to_lower_case(words)\n",
    "    words = remove_punctuation(words)\n",
    "    words = keep_alphabetic(words)\n",
    "    words = remove_stopwords(words)\n",
    "    return to_sentence(words)"
   ],
   "metadata": {
    "collapsed": false
   }
  },
  {
   "cell_type": "code",
   "execution_count": 6,
   "outputs": [],
   "source": [
    "df['text'] = df['text'].apply(denoise_text)\n",
    "\n",
    "vec = TfidfVectorizer()\n",
    "X = vec.fit_transform(df['text'])\n",
    "y = df['intent']\n",
    "\n",
    "X_train, X_test, y_train, y_test = train_test_split(X, y, test_size=0.2, random_state=42)"
   ],
   "metadata": {
    "collapsed": false
   }
  },
  {
   "cell_type": "code",
   "execution_count": 7,
   "outputs": [
    {
     "name": "stdout",
     "output_type": "stream",
     "text": [
      "Accuracy: 0.9257028112449799\n",
      "                           precision    recall  f1-score   support\n",
      "\n",
      "             abbreviation       0.89      0.80      0.84        20\n",
      "                 aircraft       0.92      0.73      0.81        15\n",
      "aircraft+flight+flight_no       0.00      0.00      0.00         1\n",
      "                  airfare       0.89      0.88      0.89        86\n",
      "                  airline       0.93      0.68      0.78        37\n",
      "                  airport       1.00      0.33      0.50         3\n",
      "                 capacity       0.00      0.00      0.00         2\n",
      "                     city       0.00      0.00      0.00         6\n",
      "                 distance       1.00      1.00      1.00         1\n",
      "                   flight       0.93      0.99      0.96       752\n",
      "           flight+airfare       0.00      0.00      0.00         5\n",
      "                flight_no       0.00      0.00      0.00         4\n",
      "              flight_time       0.00      0.00      0.00         8\n",
      "              ground_fare       0.00      0.00      0.00         1\n",
      "           ground_service       1.00      0.90      0.95        42\n",
      "                     meal       0.00      0.00      0.00         1\n",
      "                 quantity       0.86      0.60      0.71        10\n",
      "              restriction       0.00      0.00      0.00         2\n",
      "\n",
      "                 accuracy                           0.93       996\n",
      "                macro avg       0.47      0.38      0.41       996\n",
      "             weighted avg       0.90      0.93      0.91       996\n",
      "\n"
     ]
    },
    {
     "name": "stderr",
     "output_type": "stream",
     "text": [
      "/Users/cyber/anaconda3/lib/python3.10/site-packages/sklearn/metrics/_classification.py:1344: UndefinedMetricWarning: Precision and F-score are ill-defined and being set to 0.0 in labels with no predicted samples. Use `zero_division` parameter to control this behavior.\n",
      "  _warn_prf(average, modifier, msg_start, len(result))\n",
      "/Users/cyber/anaconda3/lib/python3.10/site-packages/sklearn/metrics/_classification.py:1344: UndefinedMetricWarning: Precision and F-score are ill-defined and being set to 0.0 in labels with no predicted samples. Use `zero_division` parameter to control this behavior.\n",
      "  _warn_prf(average, modifier, msg_start, len(result))\n",
      "/Users/cyber/anaconda3/lib/python3.10/site-packages/sklearn/metrics/_classification.py:1344: UndefinedMetricWarning: Precision and F-score are ill-defined and being set to 0.0 in labels with no predicted samples. Use `zero_division` parameter to control this behavior.\n",
      "  _warn_prf(average, modifier, msg_start, len(result))\n"
     ]
    }
   ],
   "source": [
    "clf = LogisticRegression()\n",
    "clf.fit(X_train, y_train)\n",
    "y_pred = clf.predict(X_test)\n",
    "\n",
    "acc = accuracy_score(y_test, y_pred)\n",
    "print(\"Accuracy:\", acc)\n",
    "print(classification_report(y_test, y_pred))"
   ],
   "metadata": {
    "collapsed": false
   }
  },
  {
   "cell_type": "code",
   "execution_count": null,
   "outputs": [],
   "source": [],
   "metadata": {
    "collapsed": false
   }
  }
 ],
 "metadata": {
  "kernelspec": {
   "display_name": "Python 3",
   "language": "python",
   "name": "python3"
  },
  "language_info": {
   "codemirror_mode": {
    "name": "ipython",
    "version": 2
   },
   "file_extension": ".py",
   "mimetype": "text/x-python",
   "name": "python",
   "nbconvert_exporter": "python",
   "pygments_lexer": "ipython2",
   "version": "2.7.6"
  }
 },
 "nbformat": 4,
 "nbformat_minor": 0
}
